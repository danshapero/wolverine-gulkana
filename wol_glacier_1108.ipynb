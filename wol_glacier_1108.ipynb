{
 "cells": [
  {
   "cell_type": "markdown",
   "id": "a366a697-d468-490c-bcc9-0c2e44b027fd",
   "metadata": {},
   "source": [
    "# Wolverine Glacier Model\n",
    "## Rewritten using geopandas \n",
    "## Weird kernal errors happening"
   ]
  },
  {
   "cell_type": "code",
   "execution_count": null,
   "id": "acc5091d-603a-4181-a48e-1d73877b9c64",
   "metadata": {},
   "outputs": [],
   "source": [
    "import firedrake\n",
    "import icepack\n",
    "import geojson\n",
    "import xarray "
   ]
  },
  {
   "cell_type": "code",
   "execution_count": null,
   "id": "e9d227f5-932c-4c6f-ae06-4364b392b4ea",
   "metadata": {},
   "outputs": [],
   "source": [
    "import geopandas as gpd\n",
    "\n",
    "outline_filename = \"wolv_tr_dem.geojson\""
   ]
  },
  {
   "cell_type": "code",
   "execution_count": null,
   "id": "a219dfc2-b573-4f4a-a5f6-84c15c0d6953",
   "metadata": {},
   "outputs": [],
   "source": [
    "dataframe = gpd.read_file(outline_filename)\n",
    "corrected_df = dataframe.to_crs(32606)\n",
    "\n",
    "corrected_df"
   ]
  },
  {
   "cell_type": "code",
   "execution_count": null,
   "id": "b30440cf-758a-4b34-87e7-5ccda8f1ff78",
   "metadata": {},
   "outputs": [],
   "source": [
    "outline_lat_lon = corrected_df.geometry\n",
    "utm_crs = outline_lat_lon.estimate_utm_crs()\n",
    "\n",
    "outline_utm = outline_lat_lon.to_crs(utm_crs)\n",
    "outline_json = geojson.loads(outline_utm.to_json())\n",
    "\n",
    "outline = geojson.utils.map_tuples(lambda x: x[:2], outline_json)\n",
    "\n",
    "geometry = icepack.meshing.collection_to_geo(outline)\n",
    "geo_filename = \"wolverine.geo\"\n",
    "\n",
    "with open(geo_filename, \"w\") as geo_file:\n",
    "    geo_file.write(geometry.get_code())"
   ]
  },
  {
   "cell_type": "code",
   "execution_count": null,
   "id": "3d097c58-bcac-476e-9463-225c6f53a880",
   "metadata": {},
   "outputs": [],
   "source": [
    "import numpy as np\n",
    "import icepack.plot\n",
    "\n",
    "fig, axes = icepack.plot.subplots()\n",
    "\n",
    "for feature in outline[\"features\"]:\n",
    "    for line_string in feature[\"geometry\"][\"coordinates\"]:\n",
    "        xs = np.array(line_string)\n",
    "        axes.plot(xs[:, 0], xs[:, 1], linewidth=2)"
   ]
  },
  {
   "cell_type": "code",
   "execution_count": null,
   "id": "ac385783-32ac-4315-92ed-fc9571ba0563",
   "metadata": {},
   "outputs": [],
   "source": [
    "import subprocess\n",
    "import pathlib\n",
    "\n",
    "path = pathlib.Path(\"wolverine.msh\")\n",
    "if not path.exists():\n",
    "    command = \"gmsh -2 -v 2 -o wolverine.msh wolverine.geo\"\n",
    "    subprocess.run(command.split())"
   ]
  },
  {
   "cell_type": "code",
   "execution_count": null,
   "id": "7c93bc08-5fef-49d8-9842-db2f294740a4",
   "metadata": {},
   "outputs": [],
   "source": [
    "!gmsh -2 -format msh2 -v 2 -o wolverine.msh wolverine.geo"
   ]
  },
  {
   "cell_type": "code",
   "execution_count": null,
   "id": "4cf7a31e-9b1f-45a0-a572-d1712646bc4b",
   "metadata": {},
   "outputs": [],
   "source": [
    "mesh = firedrake.Mesh(\"wolverine.msh\")"
   ]
  },
  {
   "cell_type": "code",
   "execution_count": null,
   "id": "59d85c03-8dc8-482a-af86-ea0564aedcb8",
   "metadata": {},
   "outputs": [],
   "source": [
    "import icepack.plot\n",
    "\n",
    "fig, axes = icepack.plot.subplots()\n",
    "firedrake.triplot(mesh, axes=axes)\n",
    "#axes.legend()"
   ]
  },
  {
   "cell_type": "code",
   "execution_count": null,
   "id": "9c0c4d23-9575-4260-ab1b-cf420b155e4a",
   "metadata": {},
   "outputs": [],
   "source": [
    "Q = firedrake.FunctionSpace(mesh, \"CG\", 2)\n",
    "V = firedrake.VectorFunctionSpace(mesh, \"CG\", 2)"
   ]
  },
  {
   "cell_type": "markdown",
   "id": "9fc7670f-3a99-476e-8cbe-64373b143fa6",
   "metadata": {},
   "source": [
    "## Input Data\n",
    "> Thickness from Farinotti\n",
    "> \n",
    "> Velocity from ITS_LIVE"
   ]
  },
  {
   "cell_type": "code",
   "execution_count": null,
   "id": "cde367f9-999b-4878-9571-8c19e8cd3ace",
   "metadata": {},
   "outputs": [],
   "source": [
    "import matplotlib.pyplot as plt\n",
    "import matplotlib.image as mpimg\n",
    "import rasterio\n",
    "\n",
    "thickness_fn = 'wolv_thickness.tif'\n",
    "thickness_ds = rasterio.open(thickness_fn)\n",
    "\n",
    "bounds = thickness_ds.bounds\n",
    "left, right, bottom, top = bounds.left, bounds.right, bounds.bottom, bounds.top\n",
    "extent = (left, right, bottom, top)\n",
    "\n",
    "fig, axes = plt.subplots()\n",
    "axes.imshow(thickness_ds.read(indexes=1), extent=extent)\n",
    "firedrake.triplot(mesh, interior_kw={\"linewidth\": 0.02}, axes=axes);"
   ]
  },
  {
   "cell_type": "code",
   "execution_count": null,
   "id": "eda1f30d-f165-41ac-b96d-9d4a4ccf44fc",
   "metadata": {},
   "outputs": [],
   "source": [
    "thickness_ds.crs"
   ]
  },
  {
   "cell_type": "code",
   "execution_count": null,
   "id": "4435ed9a-89bf-4554-8691-96e848317a50",
   "metadata": {},
   "outputs": [],
   "source": [
    "from rasterio.windows import from_bounds\n",
    "\n",
    "with rasterio.open(thickness_fn) as tif:\n",
    "    print(tif.transform)\n",
    "    #transform = tif.transform\n",
    "tif.crs"
   ]
  },
  {
   "cell_type": "code",
   "execution_count": null,
   "id": "6047d2b1-38d1-4a90-8f2c-442e80ea2c39",
   "metadata": {},
   "outputs": [],
   "source": [
    "h0 = icepack.interpolate(thickness_ds, Q)"
   ]
  },
  {
   "cell_type": "code",
   "execution_count": null,
   "id": "e4476e08-d477-4f52-a1a4-8063fd7eb8e4",
   "metadata": {},
   "outputs": [],
   "source": [
    "!curl -O -C - https://its-live-data.s3.amazonaws.com/velocity_mosaic/landsat/v00.0/static/cog/ALA_G0120_0000_vx.tif\n",
    "!curl -O -C - https://its-live-data.s3.amazonaws.com/velocity_mosaic/landsat/v00.0/static/cog/ALA_G0120_0000_vy.tif"
   ]
  },
  {
   "cell_type": "code",
   "execution_count": null,
   "id": "39e8861f-75b4-4312-991c-7b25a200d514",
   "metadata": {},
   "outputs": [],
   "source": [
    "!rio warp ALA_G0120_0000_vx.tif vx.tif --dst-crs EPSG:32606\n",
    "!rio warp ALA_G0120_0000_vy.tif vy.tif --dst-crs EPSG:32606"
   ]
  },
  {
   "cell_type": "code",
   "execution_count": null,
   "id": "c9333aa6-732b-4a40-acf6-005f6e72af45",
   "metadata": {},
   "outputs": [],
   "source": [
    "import matplotlib.pyplot as plt\n",
    "\n",
    "vx_fn = 'vx.tif'\n",
    "vx_file = rasterio.open(vx_fn)\n",
    "\n",
    "vy_fn = 'vy.tif'\n",
    "vy_file = rasterio.open(vy_fn)\n",
    "\n",
    "vx_file.crs"
   ]
  },
  {
   "cell_type": "code",
   "execution_count": null,
   "id": "66571885-5c60-4a70-b526-92e643612445",
   "metadata": {},
   "outputs": [],
   "source": [
    "transform = vx_file.transform\n",
    "window = rasterio.windows.from_bounds(\n",
    "    left=bounds.left, bottom=bounds.bottom, right=bounds.right, top=bounds.top, transform=transform\n",
    ")"
   ]
  },
  {
   "cell_type": "code",
   "execution_count": null,
   "id": "bfa6213a-003a-4e5d-a137-6003ebb33dc9",
   "metadata": {},
   "outputs": [],
   "source": [
    "vx = vx_file.read(indexes=1, window=window, masked=True)\n",
    "vy = vy_file.read(indexes=1, window=window, masked=True)"
   ]
  },
  {
   "cell_type": "code",
   "execution_count": null,
   "id": "be652bc9-3192-42ce-afb2-a2a81e77e2b2",
   "metadata": {},
   "outputs": [],
   "source": [
    "fig, axes = plt.subplots()\n",
    "axes.imshow(vy, extent=extent)\n",
    "firedrake.triplot(mesh, axes=axes);"
   ]
  },
  {
   "cell_type": "code",
   "execution_count": null,
   "id": "55c71a8f-981b-4261-b3b4-2685bb8cf1ba",
   "metadata": {},
   "outputs": [],
   "source": [
    "u_raw = icepack.interpolate((vx_file, vy_file), V)"
   ]
  },
  {
   "cell_type": "markdown",
   "id": "f3d31ee0-20b9-4874-a1a4-ee103e5a05e9",
   "metadata": {},
   "source": [
    "We can see from the quiver plot that the directions are rotated by $\\pi/2$ clockwise from what they should be.\n",
    "This is a consequence of the coordinate reprojection that we did from the original polar stereographic projection of the raw data to the UTM projection that we're using here."
   ]
  },
  {
   "cell_type": "code",
   "execution_count": null,
   "id": "e6a7903a-c49c-45c6-8de5-4a640d1ae73e",
   "metadata": {},
   "outputs": [],
   "source": [
    "fig, axes = plt.subplots()\n",
    "axes.set_aspect(\"equal\")\n",
    "arrows = firedrake.quiver(u_raw, axes=axes)\n",
    "fig.colorbar(arrows, label=\"meters/year\");"
   ]
  },
  {
   "cell_type": "markdown",
   "id": "137cb1c1-f9fe-4241-a4f2-bc8f2ceccb9f",
   "metadata": {},
   "source": [
    "This looks much more sensible."
   ]
  },
  {
   "cell_type": "code",
   "execution_count": null,
   "id": "e2863a3f-0e2f-42e1-bac8-088bf431075a",
   "metadata": {},
   "outputs": [],
   "source": [
    "u = firedrake.interpolate(firedrake.as_vector((-u_raw[1], u_raw[0])), V)"
   ]
  },
  {
   "cell_type": "code",
   "execution_count": null,
   "id": "263683da-7710-47db-8c1a-8fcfa120becf",
   "metadata": {},
   "outputs": [],
   "source": [
    "fig, axes = plt.subplots()\n",
    "axes.set_aspect(\"equal\")\n",
    "arrows = firedrake.quiver(u, axes=axes)\n",
    "fig.colorbar(arrows, label=\"meters/year\");"
   ]
  }
 ],
 "metadata": {
  "kernelspec": {
   "display_name": "firedrake",
   "language": "python",
   "name": "firedrake"
  },
  "language_info": {
   "codemirror_mode": {
    "name": "ipython",
    "version": 3
   },
   "file_extension": ".py",
   "mimetype": "text/x-python",
   "name": "python",
   "nbconvert_exporter": "python",
   "pygments_lexer": "ipython3",
   "version": "3.11.5"
  }
 },
 "nbformat": 4,
 "nbformat_minor": 5
}
