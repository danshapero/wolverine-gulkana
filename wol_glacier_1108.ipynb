{
 "cells": [
  {
   "cell_type": "markdown",
   "id": "a366a697-d468-490c-bcc9-0c2e44b027fd",
   "metadata": {},
   "source": [
    "# Wolverine Glacier Model"
   ]
  },
  {
   "cell_type": "markdown",
   "id": "634d59e9-bcfd-423d-bcd5-89c75b4976f5",
   "metadata": {},
   "source": [
    "## Make a mesh"
   ]
  },
  {
   "cell_type": "code",
   "execution_count": null,
   "id": "acc5091d-603a-4181-a48e-1d73877b9c64",
   "metadata": {},
   "outputs": [],
   "source": [
    "import firedrake\n",
    "from firedrake import inner, grad, dx, Constant, derivative\n",
    "import icepack\n",
    "import geojson\n",
    "import xarray\n",
    "import geopandas as gpd"
   ]
  },
  {
   "cell_type": "code",
   "execution_count": null,
   "id": "a219dfc2-b573-4f4a-a5f6-84c15c0d6953",
   "metadata": {},
   "outputs": [],
   "source": [
    "outline_filename = \"wolv_tr_dem.geojson\"\n",
    "dataframe = gpd.read_file(outline_filename)\n",
    "corrected_df = dataframe.to_crs(32606)\n",
    "\n",
    "corrected_df"
   ]
  },
  {
   "cell_type": "code",
   "execution_count": null,
   "id": "b30440cf-758a-4b34-87e7-5ccda8f1ff78",
   "metadata": {},
   "outputs": [],
   "source": [
    "outline_lat_lon = corrected_df.geometry\n",
    "utm_crs = outline_lat_lon.estimate_utm_crs()\n",
    "\n",
    "outline_utm = outline_lat_lon.to_crs(utm_crs)\n",
    "outline_json = geojson.loads(outline_utm.to_json())\n",
    "\n",
    "outline = geojson.utils.map_tuples(lambda x: x[:2], outline_json)\n",
    "\n",
    "geometry = icepack.meshing.collection_to_geo(outline)\n",
    "geo_filename = \"wolverine.geo\"\n",
    "\n",
    "with open(geo_filename, \"w\") as geo_file:\n",
    "    geo_file.write(geometry.get_code())"
   ]
  },
  {
   "cell_type": "code",
   "execution_count": null,
   "id": "3d097c58-bcac-476e-9463-225c6f53a880",
   "metadata": {},
   "outputs": [],
   "source": [
    "import numpy as np\n",
    "import icepack.plot\n",
    "\n",
    "fig, axes = icepack.plot.subplots()\n",
    "\n",
    "for feature in outline[\"features\"]:\n",
    "    for line_string in feature[\"geometry\"][\"coordinates\"]:\n",
    "        xs = np.array(line_string)\n",
    "        axes.plot(xs[:, 0], xs[:, 1], linewidth=2)"
   ]
  },
  {
   "cell_type": "code",
   "execution_count": null,
   "id": "7c93bc08-5fef-49d8-9842-db2f294740a4",
   "metadata": {},
   "outputs": [],
   "source": [
    "!gmsh -2 -format msh2 -v 2 -o wolverine.msh wolverine.geo"
   ]
  },
  {
   "cell_type": "code",
   "execution_count": null,
   "id": "4cf7a31e-9b1f-45a0-a572-d1712646bc4b",
   "metadata": {},
   "outputs": [],
   "source": [
    "mesh = firedrake.Mesh(\"wolverine.msh\")"
   ]
  },
  {
   "cell_type": "code",
   "execution_count": null,
   "id": "59d85c03-8dc8-482a-af86-ea0564aedcb8",
   "metadata": {},
   "outputs": [],
   "source": [
    "import icepack.plot\n",
    "\n",
    "fig, axes = icepack.plot.subplots()\n",
    "firedrake.triplot(mesh, axes=axes)\n",
    "axes.legend();"
   ]
  },
  {
   "cell_type": "code",
   "execution_count": null,
   "id": "9c0c4d23-9575-4260-ab1b-cf420b155e4a",
   "metadata": {},
   "outputs": [],
   "source": [
    "Q = firedrake.FunctionSpace(mesh, \"CG\", 2)\n",
    "V = firedrake.VectorFunctionSpace(mesh, \"CG\", 1)"
   ]
  },
  {
   "cell_type": "markdown",
   "id": "9fc7670f-3a99-476e-8cbe-64373b143fa6",
   "metadata": {},
   "source": [
    "## Input Data\n",
    "> Thickness from Farinotti\n",
    "> \n",
    "> Velocity from ITS_LIVE"
   ]
  },
  {
   "cell_type": "code",
   "execution_count": null,
   "id": "c63881ff-0ee9-4d62-94cc-af4b660627ea",
   "metadata": {},
   "outputs": [],
   "source": [
    "!curl -O -C - https://www.research-collection.ethz.ch/bitstream/handle/20.500.11850/315707/results_model_3.zip\n",
    "!unzip -oj results_model_3.zip RGI60-01/thickness_RGI60-01.09162.tif"
   ]
  },
  {
   "cell_type": "code",
   "execution_count": null,
   "id": "cde367f9-999b-4878-9571-8c19e8cd3ace",
   "metadata": {},
   "outputs": [],
   "source": [
    "import matplotlib.pyplot as plt\n",
    "import rasterio\n",
    "\n",
    "thickness_filename = \"thickness_RGI60-01.09162.tif\"\n",
    "thickness_ds = rasterio.open(thickness_filename)\n",
    "\n",
    "bounds = thickness_ds.bounds\n",
    "left, right, bottom, top = bounds.left, bounds.right, bounds.bottom, bounds.top\n",
    "extent = (left, right, bottom, top)\n",
    "\n",
    "fig, axes = plt.subplots()\n",
    "axes.imshow(thickness_ds.read(indexes=1), extent=extent)\n",
    "firedrake.triplot(mesh, interior_kw={\"linewidth\": 0.02}, axes=axes);"
   ]
  },
  {
   "cell_type": "code",
   "execution_count": null,
   "id": "6047d2b1-38d1-4a90-8f2c-442e80ea2c39",
   "metadata": {},
   "outputs": [],
   "source": [
    "h_obs = icepack.interpolate(thickness_ds, Q)"
   ]
  },
  {
   "cell_type": "code",
   "execution_count": null,
   "id": "a2df9fbc-4dc0-4aed-b134-612f6c0b7d74",
   "metadata": {},
   "outputs": [],
   "source": [
    "from firedrake import inner, grad, dx\n",
    "h = h_obs.copy(deepcopy=True)\n",
    "α = Constant(100.0)\n",
    "E = 0.5 * ((h - h_obs) ** 2 + α**2 * inner(grad(h), grad(h))) * dx\n",
    "bcs = firedrake.DirichletBC(Q, h_obs, \"on_boundary\")\n",
    "firedrake.solve(firedrake.derivative(E, h) == 0, h, bcs)"
   ]
  },
  {
   "cell_type": "code",
   "execution_count": null,
   "id": "97eabb43-c7c1-4760-b33f-5360281c8544",
   "metadata": {},
   "outputs": [],
   "source": [
    "fig, axes = plt.subplots()\n",
    "axes.set_aspect(\"equal\")\n",
    "colors = firedrake.tripcolor(h, axes=axes)\n",
    "fig.colorbar(colors);"
   ]
  },
  {
   "cell_type": "code",
   "execution_count": null,
   "id": "e4476e08-d477-4f52-a1a4-8063fd7eb8e4",
   "metadata": {},
   "outputs": [],
   "source": [
    "!curl -O -C - https://its-live-data.s3.amazonaws.com/velocity_mosaic/landsat/v00.0/static/cog/ALA_G0120_0000_vx.tif\n",
    "!curl -O -C - https://its-live-data.s3.amazonaws.com/velocity_mosaic/landsat/v00.0/static/cog/ALA_G0120_0000_vy.tif"
   ]
  },
  {
   "cell_type": "code",
   "execution_count": null,
   "id": "39e8861f-75b4-4312-991c-7b25a200d514",
   "metadata": {},
   "outputs": [],
   "source": [
    "!rio warp ALA_G0120_0000_vx.tif vx.tif --dst-crs EPSG:32606\n",
    "!rio warp ALA_G0120_0000_vy.tif vy.tif --dst-crs EPSG:32606"
   ]
  },
  {
   "cell_type": "code",
   "execution_count": null,
   "id": "c9333aa6-732b-4a40-acf6-005f6e72af45",
   "metadata": {},
   "outputs": [],
   "source": [
    "with rasterio.open(\"vx.tif\") as vx_file, rasterio.open(\"vy.tif\") as vy_file:\n",
    "    u_raw = icepack.interpolate((vx_file, vy_file), V)"
   ]
  },
  {
   "cell_type": "markdown",
   "id": "f3d31ee0-20b9-4874-a1a4-ee103e5a05e9",
   "metadata": {},
   "source": [
    "We can see from the quiver plot that the directions are rotated by $\\pi/2$ clockwise from what they should be.\n",
    "This is a consequence of the coordinate reprojection that we did from the original polar stereographic projection of the raw data to the UTM projection that we're using here."
   ]
  },
  {
   "cell_type": "code",
   "execution_count": null,
   "id": "e6a7903a-c49c-45c6-8de5-4a640d1ae73e",
   "metadata": {},
   "outputs": [],
   "source": [
    "fig, axes = plt.subplots()\n",
    "axes.set_aspect(\"equal\")\n",
    "arrows = firedrake.quiver(u_raw, axes=axes)\n",
    "fig.colorbar(arrows, label=\"meters/year\");"
   ]
  },
  {
   "cell_type": "markdown",
   "id": "137cb1c1-f9fe-4241-a4f2-bc8f2ceccb9f",
   "metadata": {},
   "source": [
    "This looks much more sensible."
   ]
  },
  {
   "cell_type": "code",
   "execution_count": null,
   "id": "e2863a3f-0e2f-42e1-bac8-088bf431075a",
   "metadata": {},
   "outputs": [],
   "source": [
    "u0 = firedrake.interpolate(firedrake.as_vector((-u_raw[1], u_raw[0])), V)"
   ]
  },
  {
   "cell_type": "code",
   "execution_count": null,
   "id": "263683da-7710-47db-8c1a-8fcfa120becf",
   "metadata": {},
   "outputs": [],
   "source": [
    "fig, axes = plt.subplots()\n",
    "axes.set_aspect(\"equal\")\n",
    "arrows = firedrake.quiver(u0, axes=axes)\n",
    "fig.colorbar(arrows, label=\"meters/year\");"
   ]
  },
  {
   "cell_type": "markdown",
   "id": "3805cb93-84d2-47fe-a2b1-3ffec4c4f81a",
   "metadata": {},
   "source": [
    "Fetch the surface elevation data.\n",
    "Wolverine is in ArcticDEM tile 48/09.\n",
    "Then unpack the archive and reproject it to UTM zone 6."
   ]
  },
  {
   "cell_type": "code",
   "execution_count": null,
   "id": "61abd476-9849-407d-b53e-3b170ffb102b",
   "metadata": {},
   "outputs": [],
   "source": [
    "!curl -O -C - https://data.pgc.umn.edu/elev/dem/setsm/ArcticDEM/mosaic/v4.1/10m/48_09/48_09_10m_v4.1.tar.gz\n",
    "!tar -xkvf 48_09_10m_v4.1.tar.gz\n",
    "!rio warp 48_09_10m_v4.1_dem.tif surface.tif --dst-crs EPSG:32606"
   ]
  },
  {
   "cell_type": "code",
   "execution_count": null,
   "id": "8c7a048e-42b3-4dcc-a531-8d97973d7a78",
   "metadata": {},
   "outputs": [],
   "source": [
    "with rasterio.open(\"surface.tif\", \"r\") as arcticdem_file:\n",
    "    s_obs = icepack.interpolate(arcticdem_file, Q)\n",
    "\n",
    "s = s_obs.copy(deepcopy=True)\n",
    "γ = Constant(400.0)\n",
    "E = 0.5 * ((s - s_obs)**2 + γ**2 * inner(grad(s), grad(s))) * dx\n",
    "F = firedrake.derivative(E, s)\n",
    "firedrake.solve(F == 0, s)"
   ]
  },
  {
   "cell_type": "code",
   "execution_count": null,
   "id": "44ac0583-312f-4991-9bb7-a4aa34123b48",
   "metadata": {},
   "outputs": [],
   "source": [
    "fig, axes = plt.subplots()\n",
    "axes.set_aspect(\"equal\")\n",
    "colors = firedrake.tripcolor(s, axes=axes)\n",
    "firedrake.triplot(mesh, interior_kw={\"linewidth\": 0.02}, axes=axes)\n",
    "fig.colorbar(colors);"
   ]
  },
  {
   "cell_type": "code",
   "execution_count": null,
   "id": "1933016b-fccf-4b88-84e4-c4c8dd76ff50",
   "metadata": {},
   "outputs": [],
   "source": [
    "from firedrake import grad\n",
    "grad_s = firedrake.project(-grad(s), V)\n",
    "\n",
    "fig, axes = plt.subplots()\n",
    "axes.set_aspect(\"equal\")\n",
    "colors = firedrake.quiver(grad_s, axes=axes)\n",
    "fig.colorbar(colors);"
   ]
  },
  {
   "cell_type": "markdown",
   "id": "783b013f-f0e8-4a8e-a6cf-2978b620efdb",
   "metadata": {},
   "source": [
    "Finally, according to the USGS, the annual average temperature is about -1C near the equilibrium line altitude, so we'll use that to set the flow law coefficient in our glacier model."
   ]
  },
  {
   "cell_type": "code",
   "execution_count": null,
   "id": "3210f091-1552-4809-8e5e-b465d10928cd",
   "metadata": {},
   "outputs": [],
   "source": [
    "A = Constant(icepack.rate_factor(268))"
   ]
  },
  {
   "cell_type": "markdown",
   "id": "a17f75ee-cf81-44e2-b8de-bf6d16d50881",
   "metadata": {},
   "source": [
    "Make the shallow ice velocity."
   ]
  },
  {
   "cell_type": "code",
   "execution_count": null,
   "id": "dd53c84a-de29-4b8d-bd5b-df5c79658639",
   "metadata": {},
   "outputs": [],
   "source": [
    "ρ_I = Constant(icepack.constants.ice_density)\n",
    "g = Constant(icepack.constants.gravity)\n",
    "n = icepack.constants.glen_flow_law\n",
    "\n",
    "u = firedrake.Function(V)\n",
    "v = firedrake.TestFunction(V)\n",
    "\n",
    "P = ρ_I * g * h\n",
    "S_n = inner(grad(s), grad(s))**((n - 1) / 2)\n",
    "u_shear = -2 * A * P ** n / (n + 2) * h * S_n * grad(s)\n",
    "# u_sliding = ...\n",
    "β = Constant(50.0)\n",
    "F = (inner(u - u_shear, v) + β**2 * inner(grad(u), grad(v))) * dx\n",
    "\n",
    "solver_params = {\"snes_type\": \"ksponly\", \"ksp_type\": \"gmres\"}\n",
    "fc_params = {\"quadrature_degree\": 6}\n",
    "params = {\"solver_parameters\": solver_params, \"form_compiler_parameters\": fc_params}\n",
    "firedrake.solve(F == 0, u, **params)\n",
    "u_sia = u.copy(deepcopy=True)"
   ]
  },
  {
   "cell_type": "code",
   "execution_count": null,
   "id": "ba7bca95-6e42-4a16-aa77-7d9339a83833",
   "metadata": {},
   "outputs": [],
   "source": [
    "fig, axes = plt.subplots()\n",
    "axes.set_aspect(\"equal\")\n",
    "arrows = firedrake.quiver(u, axes=axes)\n",
    "fig.colorbar(arrows, label=\"meters/year\");"
   ]
  },
  {
   "cell_type": "markdown",
   "id": "539d732b-b9c6-4601-8dff-096c5828abac",
   "metadata": {},
   "source": [
    "## Modeling\n",
    "\n",
    "Now we'll use the new dual momentum balance model to see if we get something sensible."
   ]
  },
  {
   "cell_type": "code",
   "execution_count": null,
   "id": "30cfcdde-54df-444c-b436-5da402013eaf",
   "metadata": {},
   "outputs": [],
   "source": [
    "dg0 = firedrake.FiniteElement(\"DG\", \"triangle\", 0)\n",
    "Σ = firedrake.TensorFunctionSpace(mesh, dg0, symmetry=True)\n",
    "#cg1 = firedrake.FiniteElement(\"CG\", \"triangle\", 1)\n",
    "T = firedrake.VectorFunctionSpace(mesh, dg0)\n",
    "Z = V * Σ * T\n",
    "z = firedrake.Function(Z)\n",
    "\n",
    "z.sub(0).assign(u_sia);"
   ]
  },
  {
   "cell_type": "code",
   "execution_count": null,
   "id": "3a37279f-adbc-478f-a66f-891ae6be7634",
   "metadata": {},
   "outputs": [],
   "source": [
    "from icepack2 import model\n",
    "fns = [\n",
    "    model.viscous_power,\n",
    "    model.friction_power,\n",
    "    model.momentum_balance,\n",
    "]"
   ]
  },
  {
   "cell_type": "code",
   "execution_count": null,
   "id": "101708e3-05ba-47c0-afb9-39ac81f3f35d",
   "metadata": {},
   "outputs": [],
   "source": [
    "τ_c = Constant(0.1)\n",
    "ε_c = Constant(A * τ_c ** n)"
   ]
  },
  {
   "cell_type": "code",
   "execution_count": null,
   "id": "941f963b-6e82-4c8e-89c9-206884683d1d",
   "metadata": {},
   "outputs": [],
   "source": [
    "K = h * A / (n + 2)\n",
    "U_c = Constant(1.0)\n",
    "u_c = K * τ_c ** n + U_c"
   ]
  },
  {
   "cell_type": "code",
   "execution_count": null,
   "id": "3b4eadf8-a279-413d-a6db-c26d2602994c",
   "metadata": {},
   "outputs": [],
   "source": [
    "μ = Constant(1.0)\n",
    "rheology = {\n",
    "    \"flow_law_exponent\": n,\n",
    "    \"flow_law_coefficient\": μ * ε_c / τ_c ** n,\n",
    "    \"sliding_exponent\": n,\n",
    "    \"sliding_coefficient\": u_c / τ_c ** n,\n",
    "}\n",
    "\n",
    "u, M, τ = firedrake.split(z)\n",
    "fields = {\n",
    "    \"velocity\": u,\n",
    "    \"membrane_stress\": M,\n",
    "    \"basal_stress\": τ,\n",
    "    \"thickness\": h,\n",
    "    \"surface\": s,\n",
    "}\n",
    "\n",
    "L = sum(fn(**fields, **rheology) for fn in fns)\n",
    "F = derivative(L, z)"
   ]
  },
  {
   "cell_type": "code",
   "execution_count": null,
   "id": "f4e2d4e0-5e12-445f-892f-895df01e3046",
   "metadata": {},
   "outputs": [],
   "source": [
    "from firedrake import derivative\n",
    "\n",
    "h_min = Constant(2.0)\n",
    "λ = Constant(1e-3)\n",
    "v_c = firedrake.replace(u_c, {h: firedrake.max_value(h, h_min)})\n",
    "regularized_rheology = {\n",
    "    \"flow_law_exponent\": 1,\n",
    "    \"flow_law_coefficient\": λ * μ * ε_c / τ_c,\n",
    "    \"sliding_exponent\": 1,\n",
    "    \"sliding_coefficient\": λ * v_c / τ_c,\n",
    "}\n",
    "\n",
    "regularized_fields = {\n",
    "    \"velocity\": u,\n",
    "    \"membrane_stress\": M,\n",
    "    \"basal_stress\": τ,\n",
    "    \"thickness\": firedrake.max_value(h, h_min),\n",
    "}\n",
    "\n",
    "K = sum(\n",
    "    fn(**regularized_fields, **regularized_rheology)\n",
    "    for fn in [model.viscous_power, model.friction_power]\n",
    ")\n",
    "J = derivative(derivative(L + K, z), z)"
   ]
  },
  {
   "cell_type": "code",
   "execution_count": null,
   "id": "addcd416-0fd7-481d-b35c-b57e143b2f7f",
   "metadata": {},
   "outputs": [],
   "source": [
    "z.sub(0).assign(u_sia)\n",
    "degree = 1\n",
    "qdegree = max(8, degree ** n)\n",
    "pparams = {\"form_compiler_parameters\": {\"quadrature_degree\": qdegree}}\n",
    "bcs = firedrake.DirichletBC(Z.sub(0), Constant((0, 0)), \"on_boundary\")\n",
    "momentum_problem = firedrake.NonlinearVariationalProblem(F, z, bcs=bcs, J=J, **pparams)\n",
    "\n",
    "sparams = {\n",
    "    \"solver_parameters\": {\n",
    "        \"snes_type\": \"newtonls\",\n",
    "        \"snes_monitor\": None,\n",
    "        \"snes_converged_reason\": None,\n",
    "        \"ksp_type\": \"gmres\",\n",
    "        \"pc_type\": \"lu\",\n",
    "        \"pc_factor_mat_solver_type\": \"mumps\",\n",
    "    },\n",
    "}\n",
    "momentum_solver = firedrake.NonlinearVariationalSolver(momentum_problem, **sparams)\n",
    "momentum_solver.solve()"
   ]
  },
  {
   "cell_type": "code",
   "execution_count": null,
   "id": "782e1440-ac18-4cee-acdc-ba4e8109428f",
   "metadata": {},
   "outputs": [],
   "source": [
    "u, M, τ = z.subfunctions\n",
    "\n",
    "fig, axes = plt.subplots()\n",
    "axes.set_aspect(\"equal\")\n",
    "colors = firedrake.quiver(u, axes=axes)\n",
    "fig.colorbar(colors);"
   ]
  }
 ],
 "metadata": {
  "kernelspec": {
   "display_name": "firedrake",
   "language": "python",
   "name": "firedrake"
  },
  "language_info": {
   "codemirror_mode": {
    "name": "ipython",
    "version": 3
   },
   "file_extension": ".py",
   "mimetype": "text/x-python",
   "name": "python",
   "nbconvert_exporter": "python",
   "pygments_lexer": "ipython3",
   "version": "3.11.5"
  }
 },
 "nbformat": 4,
 "nbformat_minor": 5
}
